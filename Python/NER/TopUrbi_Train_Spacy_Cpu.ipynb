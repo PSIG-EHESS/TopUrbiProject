{
  "nbformat": 4,
  "nbformat_minor": 0,
  "metadata": {
    "colab": {
      "provenance": []
    },
    "kernelspec": {
      "name": "python3",
      "display_name": "Python 3"
    },
    "language_info": {
      "name": "python"
    }
  },
  "cells": [
    {
      "cell_type": "markdown",
      "source": [
        "# Pipeline d'entraînement des modèles NER avec spaCy (Google colab / CPU)\n",
        "\n"
      ],
      "metadata": {
        "id": "_GZEGM6groGM"
      }
    },
    {
      "cell_type": "code",
      "source": [
        "from google.colab import drive\n",
        "drive.mount('/content/drive')"
      ],
      "metadata": {
        "colab": {
          "base_uri": "https://localhost:8080/"
        },
        "id": "2MfgBSIEaX4e",
        "outputId": "9c648994-5273-4a46-8cba-6e86fa91b942"
      },
      "execution_count": null,
      "outputs": [
        {
          "output_type": "stream",
          "name": "stdout",
          "text": [
            "Drive already mounted at /content/drive; to attempt to forcibly remount, call drive.mount(\"/content/drive\", force_remount=True).\n"
          ]
        }
      ]
    },
    {
      "cell_type": "code",
      "metadata": {
        "id": "l1zbfIieSrzs",
        "colab": {
          "base_uri": "https://localhost:8080/"
        },
        "outputId": "43357276-107e-44f0-8bf6-f42109a53c19"
      },
      "source": [
        "!pip install -U pip setuptools wheel\n",
        "!pip install -U spacy\n",
        "!python -m spacy download es_core_news_lg"
      ],
      "execution_count": null,
      "outputs": [
        {
          "output_type": "stream",
          "name": "stdout",
          "text": [
            "Requirement already satisfied: pip in /usr/local/lib/python3.10/dist-packages (23.3.2)\n",
            "Requirement already satisfied: setuptools in /usr/local/lib/python3.10/dist-packages (69.0.3)\n",
            "Requirement already satisfied: wheel in /usr/local/lib/python3.10/dist-packages (0.42.0)\n",
            "\u001b[33mWARNING: Running pip as the 'root' user can result in broken permissions and conflicting behaviour with the system package manager. It is recommended to use a virtual environment instead: https://pip.pypa.io/warnings/venv\u001b[0m\u001b[33m\n",
            "\u001b[0mRequirement already satisfied: spacy in /usr/local/lib/python3.10/dist-packages (3.7.2)\n",
            "Requirement already satisfied: spacy-legacy<3.1.0,>=3.0.11 in /usr/local/lib/python3.10/dist-packages (from spacy) (3.0.12)\n",
            "Requirement already satisfied: spacy-loggers<2.0.0,>=1.0.0 in /usr/local/lib/python3.10/dist-packages (from spacy) (1.0.5)\n",
            "Requirement already satisfied: murmurhash<1.1.0,>=0.28.0 in /usr/local/lib/python3.10/dist-packages (from spacy) (1.0.10)\n",
            "Requirement already satisfied: cymem<2.1.0,>=2.0.2 in /usr/local/lib/python3.10/dist-packages (from spacy) (2.0.8)\n",
            "Requirement already satisfied: preshed<3.1.0,>=3.0.2 in /usr/local/lib/python3.10/dist-packages (from spacy) (3.0.9)\n",
            "Requirement already satisfied: thinc<8.3.0,>=8.1.8 in /usr/local/lib/python3.10/dist-packages (from spacy) (8.1.12)\n",
            "Requirement already satisfied: wasabi<1.2.0,>=0.9.1 in /usr/local/lib/python3.10/dist-packages (from spacy) (1.1.2)\n",
            "Requirement already satisfied: srsly<3.0.0,>=2.4.3 in /usr/local/lib/python3.10/dist-packages (from spacy) (2.4.8)\n",
            "Requirement already satisfied: catalogue<2.1.0,>=2.0.6 in /usr/local/lib/python3.10/dist-packages (from spacy) (2.0.10)\n",
            "Requirement already satisfied: weasel<0.4.0,>=0.1.0 in /usr/local/lib/python3.10/dist-packages (from spacy) (0.3.4)\n",
            "Requirement already satisfied: typer<0.10.0,>=0.3.0 in /usr/local/lib/python3.10/dist-packages (from spacy) (0.9.0)\n",
            "Requirement already satisfied: smart-open<7.0.0,>=5.2.1 in /usr/local/lib/python3.10/dist-packages (from spacy) (6.4.0)\n",
            "Requirement already satisfied: tqdm<5.0.0,>=4.38.0 in /usr/local/lib/python3.10/dist-packages (from spacy) (4.66.1)\n",
            "Requirement already satisfied: requests<3.0.0,>=2.13.0 in /usr/local/lib/python3.10/dist-packages (from spacy) (2.31.0)\n",
            "Requirement already satisfied: pydantic!=1.8,!=1.8.1,<3.0.0,>=1.7.4 in /usr/local/lib/python3.10/dist-packages (from spacy) (1.10.13)\n",
            "Requirement already satisfied: jinja2 in /usr/local/lib/python3.10/dist-packages (from spacy) (3.1.3)\n",
            "Requirement already satisfied: setuptools in /usr/local/lib/python3.10/dist-packages (from spacy) (69.0.3)\n",
            "Requirement already satisfied: packaging>=20.0 in /usr/local/lib/python3.10/dist-packages (from spacy) (23.2)\n",
            "Requirement already satisfied: langcodes<4.0.0,>=3.2.0 in /usr/local/lib/python3.10/dist-packages (from spacy) (3.3.0)\n",
            "Requirement already satisfied: numpy>=1.19.0 in /usr/local/lib/python3.10/dist-packages (from spacy) (1.23.5)\n",
            "Requirement already satisfied: typing-extensions>=4.2.0 in /usr/local/lib/python3.10/dist-packages (from pydantic!=1.8,!=1.8.1,<3.0.0,>=1.7.4->spacy) (4.5.0)\n",
            "Requirement already satisfied: charset-normalizer<4,>=2 in /usr/local/lib/python3.10/dist-packages (from requests<3.0.0,>=2.13.0->spacy) (3.3.2)\n",
            "Requirement already satisfied: idna<4,>=2.5 in /usr/local/lib/python3.10/dist-packages (from requests<3.0.0,>=2.13.0->spacy) (3.6)\n",
            "Requirement already satisfied: urllib3<3,>=1.21.1 in /usr/local/lib/python3.10/dist-packages (from requests<3.0.0,>=2.13.0->spacy) (2.0.7)\n",
            "Requirement already satisfied: certifi>=2017.4.17 in /usr/local/lib/python3.10/dist-packages (from requests<3.0.0,>=2.13.0->spacy) (2023.11.17)\n",
            "Requirement already satisfied: blis<0.8.0,>=0.7.8 in /usr/local/lib/python3.10/dist-packages (from thinc<8.3.0,>=8.1.8->spacy) (0.7.11)\n",
            "Requirement already satisfied: confection<1.0.0,>=0.0.1 in /usr/local/lib/python3.10/dist-packages (from thinc<8.3.0,>=8.1.8->spacy) (0.1.4)\n",
            "Requirement already satisfied: click<9.0.0,>=7.1.1 in /usr/local/lib/python3.10/dist-packages (from typer<0.10.0,>=0.3.0->spacy) (8.1.7)\n",
            "Requirement already satisfied: cloudpathlib<0.17.0,>=0.7.0 in /usr/local/lib/python3.10/dist-packages (from weasel<0.4.0,>=0.1.0->spacy) (0.16.0)\n",
            "Requirement already satisfied: MarkupSafe>=2.0 in /usr/local/lib/python3.10/dist-packages (from jinja2->spacy) (2.1.3)\n",
            "\u001b[33mWARNING: Running pip as the 'root' user can result in broken permissions and conflicting behaviour with the system package manager. It is recommended to use a virtual environment instead: https://pip.pypa.io/warnings/venv\u001b[0m\u001b[33m\n",
            "\u001b[0m2024-01-18 14:03:15.658039: E external/local_xla/xla/stream_executor/cuda/cuda_dnn.cc:9261] Unable to register cuDNN factory: Attempting to register factory for plugin cuDNN when one has already been registered\n",
            "2024-01-18 14:03:15.658128: E external/local_xla/xla/stream_executor/cuda/cuda_fft.cc:607] Unable to register cuFFT factory: Attempting to register factory for plugin cuFFT when one has already been registered\n",
            "2024-01-18 14:03:15.661375: E external/local_xla/xla/stream_executor/cuda/cuda_blas.cc:1515] Unable to register cuBLAS factory: Attempting to register factory for plugin cuBLAS when one has already been registered\n",
            "2024-01-18 14:03:15.679745: I tensorflow/core/platform/cpu_feature_guard.cc:182] This TensorFlow binary is optimized to use available CPU instructions in performance-critical operations.\n",
            "To enable the following instructions: AVX2 FMA, in other operations, rebuild TensorFlow with the appropriate compiler flags.\n",
            "2024-01-18 14:03:17.933853: W tensorflow/compiler/tf2tensorrt/utils/py_utils.cc:38] TF-TRT Warning: Could not find TensorRT\n",
            "Collecting es-core-news-lg==3.7.0\n",
            "  Downloading https://github.com/explosion/spacy-models/releases/download/es_core_news_lg-3.7.0/es_core_news_lg-3.7.0-py3-none-any.whl (568.0 MB)\n",
            "\u001b[2K     \u001b[90m━━━━━━━━━━━━━━━━━━━━━━━━━━━━━━━━━━━━━━━━\u001b[0m \u001b[32m568.0/568.0 MB\u001b[0m \u001b[31m3.2 MB/s\u001b[0m eta \u001b[36m0:00:00\u001b[0m\n",
            "\u001b[?25hRequirement already satisfied: spacy<3.8.0,>=3.7.0 in /usr/local/lib/python3.10/dist-packages (from es-core-news-lg==3.7.0) (3.7.2)\n",
            "Requirement already satisfied: spacy-legacy<3.1.0,>=3.0.11 in /usr/local/lib/python3.10/dist-packages (from spacy<3.8.0,>=3.7.0->es-core-news-lg==3.7.0) (3.0.12)\n",
            "Requirement already satisfied: spacy-loggers<2.0.0,>=1.0.0 in /usr/local/lib/python3.10/dist-packages (from spacy<3.8.0,>=3.7.0->es-core-news-lg==3.7.0) (1.0.5)\n",
            "Requirement already satisfied: murmurhash<1.1.0,>=0.28.0 in /usr/local/lib/python3.10/dist-packages (from spacy<3.8.0,>=3.7.0->es-core-news-lg==3.7.0) (1.0.10)\n",
            "Requirement already satisfied: cymem<2.1.0,>=2.0.2 in /usr/local/lib/python3.10/dist-packages (from spacy<3.8.0,>=3.7.0->es-core-news-lg==3.7.0) (2.0.8)\n",
            "Requirement already satisfied: preshed<3.1.0,>=3.0.2 in /usr/local/lib/python3.10/dist-packages (from spacy<3.8.0,>=3.7.0->es-core-news-lg==3.7.0) (3.0.9)\n",
            "Requirement already satisfied: thinc<8.3.0,>=8.1.8 in /usr/local/lib/python3.10/dist-packages (from spacy<3.8.0,>=3.7.0->es-core-news-lg==3.7.0) (8.1.12)\n",
            "Requirement already satisfied: wasabi<1.2.0,>=0.9.1 in /usr/local/lib/python3.10/dist-packages (from spacy<3.8.0,>=3.7.0->es-core-news-lg==3.7.0) (1.1.2)\n",
            "Requirement already satisfied: srsly<3.0.0,>=2.4.3 in /usr/local/lib/python3.10/dist-packages (from spacy<3.8.0,>=3.7.0->es-core-news-lg==3.7.0) (2.4.8)\n",
            "Requirement already satisfied: catalogue<2.1.0,>=2.0.6 in /usr/local/lib/python3.10/dist-packages (from spacy<3.8.0,>=3.7.0->es-core-news-lg==3.7.0) (2.0.10)\n",
            "Requirement already satisfied: weasel<0.4.0,>=0.1.0 in /usr/local/lib/python3.10/dist-packages (from spacy<3.8.0,>=3.7.0->es-core-news-lg==3.7.0) (0.3.4)\n",
            "Requirement already satisfied: typer<0.10.0,>=0.3.0 in /usr/local/lib/python3.10/dist-packages (from spacy<3.8.0,>=3.7.0->es-core-news-lg==3.7.0) (0.9.0)\n",
            "Requirement already satisfied: smart-open<7.0.0,>=5.2.1 in /usr/local/lib/python3.10/dist-packages (from spacy<3.8.0,>=3.7.0->es-core-news-lg==3.7.0) (6.4.0)\n",
            "Requirement already satisfied: tqdm<5.0.0,>=4.38.0 in /usr/local/lib/python3.10/dist-packages (from spacy<3.8.0,>=3.7.0->es-core-news-lg==3.7.0) (4.66.1)\n",
            "Requirement already satisfied: requests<3.0.0,>=2.13.0 in /usr/local/lib/python3.10/dist-packages (from spacy<3.8.0,>=3.7.0->es-core-news-lg==3.7.0) (2.31.0)\n",
            "Requirement already satisfied: pydantic!=1.8,!=1.8.1,<3.0.0,>=1.7.4 in /usr/local/lib/python3.10/dist-packages (from spacy<3.8.0,>=3.7.0->es-core-news-lg==3.7.0) (1.10.13)\n",
            "Requirement already satisfied: jinja2 in /usr/local/lib/python3.10/dist-packages (from spacy<3.8.0,>=3.7.0->es-core-news-lg==3.7.0) (3.1.3)\n",
            "Requirement already satisfied: setuptools in /usr/local/lib/python3.10/dist-packages (from spacy<3.8.0,>=3.7.0->es-core-news-lg==3.7.0) (69.0.3)\n",
            "Requirement already satisfied: packaging>=20.0 in /usr/local/lib/python3.10/dist-packages (from spacy<3.8.0,>=3.7.0->es-core-news-lg==3.7.0) (23.2)\n",
            "Requirement already satisfied: langcodes<4.0.0,>=3.2.0 in /usr/local/lib/python3.10/dist-packages (from spacy<3.8.0,>=3.7.0->es-core-news-lg==3.7.0) (3.3.0)\n",
            "Requirement already satisfied: numpy>=1.19.0 in /usr/local/lib/python3.10/dist-packages (from spacy<3.8.0,>=3.7.0->es-core-news-lg==3.7.0) (1.23.5)\n",
            "Requirement already satisfied: typing-extensions>=4.2.0 in /usr/local/lib/python3.10/dist-packages (from pydantic!=1.8,!=1.8.1,<3.0.0,>=1.7.4->spacy<3.8.0,>=3.7.0->es-core-news-lg==3.7.0) (4.5.0)\n",
            "Requirement already satisfied: charset-normalizer<4,>=2 in /usr/local/lib/python3.10/dist-packages (from requests<3.0.0,>=2.13.0->spacy<3.8.0,>=3.7.0->es-core-news-lg==3.7.0) (3.3.2)\n",
            "Requirement already satisfied: idna<4,>=2.5 in /usr/local/lib/python3.10/dist-packages (from requests<3.0.0,>=2.13.0->spacy<3.8.0,>=3.7.0->es-core-news-lg==3.7.0) (3.6)\n",
            "Requirement already satisfied: urllib3<3,>=1.21.1 in /usr/local/lib/python3.10/dist-packages (from requests<3.0.0,>=2.13.0->spacy<3.8.0,>=3.7.0->es-core-news-lg==3.7.0) (2.0.7)\n",
            "Requirement already satisfied: certifi>=2017.4.17 in /usr/local/lib/python3.10/dist-packages (from requests<3.0.0,>=2.13.0->spacy<3.8.0,>=3.7.0->es-core-news-lg==3.7.0) (2023.11.17)\n",
            "Requirement already satisfied: blis<0.8.0,>=0.7.8 in /usr/local/lib/python3.10/dist-packages (from thinc<8.3.0,>=8.1.8->spacy<3.8.0,>=3.7.0->es-core-news-lg==3.7.0) (0.7.11)\n",
            "Requirement already satisfied: confection<1.0.0,>=0.0.1 in /usr/local/lib/python3.10/dist-packages (from thinc<8.3.0,>=8.1.8->spacy<3.8.0,>=3.7.0->es-core-news-lg==3.7.0) (0.1.4)\n",
            "Requirement already satisfied: click<9.0.0,>=7.1.1 in /usr/local/lib/python3.10/dist-packages (from typer<0.10.0,>=0.3.0->spacy<3.8.0,>=3.7.0->es-core-news-lg==3.7.0) (8.1.7)\n",
            "Requirement already satisfied: cloudpathlib<0.17.0,>=0.7.0 in /usr/local/lib/python3.10/dist-packages (from weasel<0.4.0,>=0.1.0->spacy<3.8.0,>=3.7.0->es-core-news-lg==3.7.0) (0.16.0)\n",
            "Requirement already satisfied: MarkupSafe>=2.0 in /usr/local/lib/python3.10/dist-packages (from jinja2->spacy<3.8.0,>=3.7.0->es-core-news-lg==3.7.0) (2.1.3)\n",
            "\u001b[33mWARNING: Running pip as the 'root' user can result in broken permissions and conflicting behaviour with the system package manager. It is recommended to use a virtual environment instead: https://pip.pypa.io/warnings/venv\u001b[0m\u001b[33m\n",
            "\u001b[0m\u001b[38;5;2m✔ Download and installation successful\u001b[0m\n",
            "You can now load the package via spacy.load('es_core_news_lg')\n"
          ]
        }
      ]
    },
    {
      "cell_type": "markdown",
      "source": [
        "**Modelo 3 categorias Per Loc Org**"
      ],
      "metadata": {
        "id": "rNEYttRBUZge"
      }
    },
    {
      "cell_type": "code",
      "source": [
        "!python -m spacy convert \"/content/drive/MyDrive/Colab Notebooks/data/Alcedo/NER/annot_data/3catTrainDS_project-3-at-2023-12-14-23-16-3e7d0880_modif.conll\" \"/content/drive/MyDrive/Colab Notebooks/data/Alcedo/NER/bin_containers/\" -t spacy -c conll\n",
        "\n",
        "!python -m spacy convert \"/content/drive/MyDrive/Colab Notebooks/data/Alcedo/NER/annot_data/3catEvalDS_project-3-at-2023-12-15-12-38-8e39bcf8_modif.conll\" \"/content/drive/MyDrive/Colab Notebooks/data/Alcedo/NER/bin_containers/\" -t spacy -c conll"
      ],
      "metadata": {
        "colab": {
          "base_uri": "https://localhost:8080/"
        },
        "id": "Vp6yDdhd3l5p",
        "outputId": "41bbdbd6-969c-4e63-8b28-ae6ecbf2c0bc"
      },
      "execution_count": null,
      "outputs": [
        {
          "output_type": "stream",
          "name": "stdout",
          "text": [
            "2024-01-18 14:03:49.701593: E external/local_xla/xla/stream_executor/cuda/cuda_dnn.cc:9261] Unable to register cuDNN factory: Attempting to register factory for plugin cuDNN when one has already been registered\n",
            "2024-01-18 14:03:49.701673: E external/local_xla/xla/stream_executor/cuda/cuda_fft.cc:607] Unable to register cuFFT factory: Attempting to register factory for plugin cuFFT when one has already been registered\n",
            "2024-01-18 14:03:49.703311: E external/local_xla/xla/stream_executor/cuda/cuda_blas.cc:1515] Unable to register cuBLAS factory: Attempting to register factory for plugin cuBLAS when one has already been registered\n",
            "2024-01-18 14:03:49.712716: I tensorflow/core/platform/cpu_feature_guard.cc:182] This TensorFlow binary is optimized to use available CPU instructions in performance-critical operations.\n",
            "To enable the following instructions: AVX2 FMA, in other operations, rebuild TensorFlow with the appropriate compiler flags.\n",
            "2024-01-18 14:03:52.675426: W tensorflow/compiler/tf2tensorrt/utils/py_utils.cc:38] TF-TRT Warning: Could not find TensorRT\n",
            "\u001b[38;5;3m⚠ Document delimiters found, automatic document segmentation with `-n`\n",
            "disabled.\u001b[0m\n",
            "\u001b[38;5;2m✔ Generated output file (566 documents): /content/drive/MyDrive/Colab\n",
            "Notebooks/data/Alcedo/NER/bin_containers/3catTrainDS_project-3-at-2023-12-14-23-16-3e7d0880_modif.spacy\u001b[0m\n",
            "2024-01-18 14:04:04.079794: E external/local_xla/xla/stream_executor/cuda/cuda_dnn.cc:9261] Unable to register cuDNN factory: Attempting to register factory for plugin cuDNN when one has already been registered\n",
            "2024-01-18 14:04:04.079860: E external/local_xla/xla/stream_executor/cuda/cuda_fft.cc:607] Unable to register cuFFT factory: Attempting to register factory for plugin cuFFT when one has already been registered\n",
            "2024-01-18 14:04:04.081412: E external/local_xla/xla/stream_executor/cuda/cuda_blas.cc:1515] Unable to register cuBLAS factory: Attempting to register factory for plugin cuBLAS when one has already been registered\n",
            "2024-01-18 14:04:04.089836: I tensorflow/core/platform/cpu_feature_guard.cc:182] This TensorFlow binary is optimized to use available CPU instructions in performance-critical operations.\n",
            "To enable the following instructions: AVX2 FMA, in other operations, rebuild TensorFlow with the appropriate compiler flags.\n",
            "2024-01-18 14:04:05.408125: W tensorflow/compiler/tf2tensorrt/utils/py_utils.cc:38] TF-TRT Warning: Could not find TensorRT\n",
            "\u001b[38;5;3m⚠ Document delimiters found, automatic document segmentation with `-n`\n",
            "disabled.\u001b[0m\n",
            "\u001b[38;5;2m✔ Generated output file (75 documents): /content/drive/MyDrive/Colab\n",
            "Notebooks/data/Alcedo/NER/bin_containers/3catEvalDS_project-3-at-2023-12-15-12-38-8e39bcf8_modif.spacy\u001b[0m\n"
          ]
        }
      ]
    },
    {
      "cell_type": "code",
      "source": [
        "!cp \"/content/drive/MyDrive/Colab Notebooks/data/Alcedo/NER/bin_containers/3catTrainDS_project-3-at-2023-12-14-23-16-3e7d0880_modif.spacy\" ./train.spacy\n",
        "\n",
        "!cp \"/content/drive/MyDrive/Colab Notebooks/data/Alcedo/NER/bin_containers/3catEvalDS_project-3-at-2023-12-15-12-38-8e39bcf8_modif.spacy\" ./dev.spacy"
      ],
      "metadata": {
        "id": "wALqQbtfe1af"
      },
      "execution_count": null,
      "outputs": []
    },
    {
      "cell_type": "code",
      "source": [
        "!cp \"/content/drive/MyDrive/Colab Notebooks/data/Alcedo/NER/config/config_src_cpu_es_lg.cfg\" ./config.cfg"
      ],
      "metadata": {
        "id": "tfQ4M4r200qZ"
      },
      "execution_count": null,
      "outputs": []
    },
    {
      "cell_type": "code",
      "source": [
        "!python -m spacy debug config config.cfg --paths.train ./train.spacy --paths.dev ./dev.spacy"
      ],
      "metadata": {
        "colab": {
          "base_uri": "https://localhost:8080/"
        },
        "id": "bDAnGwzbAQ9Q",
        "outputId": "b8bb8958-4431-49a2-bec9-4ee2fd061226"
      },
      "execution_count": null,
      "outputs": [
        {
          "output_type": "stream",
          "name": "stdout",
          "text": [
            "2024-01-18 14:04:13.565938: E external/local_xla/xla/stream_executor/cuda/cuda_dnn.cc:9261] Unable to register cuDNN factory: Attempting to register factory for plugin cuDNN when one has already been registered\n",
            "2024-01-18 14:04:13.566001: E external/local_xla/xla/stream_executor/cuda/cuda_fft.cc:607] Unable to register cuFFT factory: Attempting to register factory for plugin cuFFT when one has already been registered\n",
            "2024-01-18 14:04:13.567694: E external/local_xla/xla/stream_executor/cuda/cuda_blas.cc:1515] Unable to register cuBLAS factory: Attempting to register factory for plugin cuBLAS when one has already been registered\n",
            "2024-01-18 14:04:13.576247: I tensorflow/core/platform/cpu_feature_guard.cc:182] This TensorFlow binary is optimized to use available CPU instructions in performance-critical operations.\n",
            "To enable the following instructions: AVX2 FMA, in other operations, rebuild TensorFlow with the appropriate compiler flags.\n",
            "2024-01-18 14:04:17.015157: W tensorflow/compiler/tf2tensorrt/utils/py_utils.cc:38] TF-TRT Warning: Could not find TensorRT\n",
            "\u001b[1m\n",
            "============================= Config validation =============================\u001b[0m\n",
            "\u001b[1m\n",
            "===================== Config validation for [initialize] =====================\u001b[0m\n",
            "\u001b[1m\n",
            "====================== Config validation for [training] ======================\u001b[0m\n",
            "\u001b[38;5;2m✔ Config is valid\u001b[0m\n"
          ]
        }
      ]
    },
    {
      "cell_type": "code",
      "metadata": {
        "colab": {
          "base_uri": "https://localhost:8080/"
        },
        "id": "Fc-qCgIcS61D",
        "outputId": "0876d3ec-79e8-4618-cbdb-349b9fc97d0c"
      },
      "source": [
        "!python -m spacy debug data config.cfg --paths.train ./train.spacy --paths.dev ./dev.spacy"
      ],
      "execution_count": null,
      "outputs": [
        {
          "output_type": "stream",
          "name": "stdout",
          "text": [
            "2024-01-18 14:04:27.832198: E external/local_xla/xla/stream_executor/cuda/cuda_dnn.cc:9261] Unable to register cuDNN factory: Attempting to register factory for plugin cuDNN when one has already been registered\n",
            "2024-01-18 14:04:27.832263: E external/local_xla/xla/stream_executor/cuda/cuda_fft.cc:607] Unable to register cuFFT factory: Attempting to register factory for plugin cuFFT when one has already been registered\n",
            "2024-01-18 14:04:27.833689: E external/local_xla/xla/stream_executor/cuda/cuda_blas.cc:1515] Unable to register cuBLAS factory: Attempting to register factory for plugin cuBLAS when one has already been registered\n",
            "2024-01-18 14:04:27.841763: I tensorflow/core/platform/cpu_feature_guard.cc:182] This TensorFlow binary is optimized to use available CPU instructions in performance-critical operations.\n",
            "To enable the following instructions: AVX2 FMA, in other operations, rebuild TensorFlow with the appropriate compiler flags.\n",
            "2024-01-18 14:04:29.490212: W tensorflow/compiler/tf2tensorrt/utils/py_utils.cc:38] TF-TRT Warning: Could not find TensorRT\n",
            "\u001b[1m\n",
            "============================ Data file validation ============================\u001b[0m\n",
            "\u001b[38;5;2m✔ Pipeline can be initialized with data\u001b[0m\n",
            "\u001b[38;5;2m✔ Corpus is loadable\u001b[0m\n",
            "\u001b[1m\n",
            "=============================== Training stats ===============================\u001b[0m\n",
            "Language: es\n",
            "Training pipeline: tok2vec, ner\n",
            "566 training docs\n",
            "75 evaluation docs\n",
            "\u001b[38;5;2m✔ No overlap between training and evaluation data\u001b[0m\n",
            "\u001b[38;5;3m⚠ Low number of examples to train a new pipeline (566)\u001b[0m\n",
            "\u001b[1m\n",
            "============================== Vocab & Vectors ==============================\u001b[0m\n",
            "\u001b[38;5;4mℹ 33492 total word(s) in the data (5778 unique)\u001b[0m\n",
            "\u001b[38;5;4mℹ 500000 vectors (500000 unique keys, 300 dimensions)\u001b[0m\n",
            "\u001b[38;5;3m⚠ 2263 words in training data without vectors (7%)\u001b[0m\n",
            "\u001b[1m\n",
            "========================== Named Entity Recognition ==========================\u001b[0m\n",
            "\u001b[38;5;4mℹ 3 label(s)\u001b[0m\n",
            "0 missing value(s) (tokens with '-' label)\n",
            "\u001b[38;5;2m✔ Good amount of examples for all labels\u001b[0m\n",
            "\u001b[38;5;2m✔ Examples without occurrences available for all labels\u001b[0m\n",
            "\u001b[38;5;2m✔ No entities consisting of or starting/ending with whitespace\u001b[0m\n",
            "\u001b[38;5;2m✔ No entities crossing sentence boundaries\u001b[0m\n",
            "\u001b[1m\n",
            "================================== Summary ==================================\u001b[0m\n",
            "\u001b[38;5;2m✔ 7 checks passed\u001b[0m\n",
            "\u001b[38;5;3m⚠ 2 warnings\u001b[0m\n"
          ]
        }
      ]
    },
    {
      "cell_type": "code",
      "metadata": {
        "colab": {
          "base_uri": "https://localhost:8080/"
        },
        "id": "4ylvtxEEcKuu",
        "outputId": "04a805d6-bf34-4b16-ba0c-712e7116ba7b"
      },
      "source": [
        "!python -m spacy train config.cfg --paths.train ./train.spacy --paths.dev ./dev.spacy --output \"/content/drive/MyDrive/Colab Notebooks/data/Alcedo/NER/models/model_spacy_3catPLO_cpu_es/\""
      ],
      "execution_count": null,
      "outputs": [
        {
          "output_type": "stream",
          "name": "stdout",
          "text": [
            "2024-01-18 14:04:46.255996: E external/local_xla/xla/stream_executor/cuda/cuda_dnn.cc:9261] Unable to register cuDNN factory: Attempting to register factory for plugin cuDNN when one has already been registered\n",
            "2024-01-18 14:04:46.256058: E external/local_xla/xla/stream_executor/cuda/cuda_fft.cc:607] Unable to register cuFFT factory: Attempting to register factory for plugin cuFFT when one has already been registered\n",
            "2024-01-18 14:04:46.257460: E external/local_xla/xla/stream_executor/cuda/cuda_blas.cc:1515] Unable to register cuBLAS factory: Attempting to register factory for plugin cuBLAS when one has already been registered\n",
            "2024-01-18 14:04:46.265384: I tensorflow/core/platform/cpu_feature_guard.cc:182] This TensorFlow binary is optimized to use available CPU instructions in performance-critical operations.\n",
            "To enable the following instructions: AVX2 FMA, in other operations, rebuild TensorFlow with the appropriate compiler flags.\n",
            "2024-01-18 14:04:47.586160: W tensorflow/compiler/tf2tensorrt/utils/py_utils.cc:38] TF-TRT Warning: Could not find TensorRT\n",
            "\u001b[38;5;4mℹ Saving to output directory: /content/drive/MyDrive/Colab\n",
            "Notebooks/data/Alcedo/NER/models/model_spacy_3catPLO_cpu_es\u001b[0m\n",
            "\u001b[38;5;4mℹ Using CPU\u001b[0m\n",
            "\u001b[1m\n",
            "=========================== Initializing pipeline ===========================\u001b[0m\n",
            "\u001b[38;5;2m✔ Initialized pipeline\u001b[0m\n",
            "\u001b[1m\n",
            "============================= Training pipeline =============================\u001b[0m\n",
            "\u001b[38;5;4mℹ Pipeline: ['tok2vec', 'ner']\u001b[0m\n",
            "\u001b[38;5;4mℹ Initial learn rate: 0.001\u001b[0m\n",
            "E    #       LOSS TOK2VEC  LOSS NER  ENTS_F  ENTS_P  ENTS_R  SCORE \n",
            "---  ------  ------------  --------  ------  ------  ------  ------\n",
            "  0       0          0.00     36.07    0.00    0.00    0.00    0.00\n",
            "  0     200         68.70   4287.17   71.96   78.73   66.26    0.72\n",
            "  1     400       3398.64   1148.27   71.37   71.97   70.78    0.71\n",
            "  2     600        577.58    792.87   80.21   81.66   78.81    0.80\n",
            "  3     800        282.98    569.32   79.70   81.96   77.57    0.80\n",
            "  5    1000        376.67    448.67   82.81   84.40   81.28    0.83\n",
            "  7    1200        623.50    373.99   80.96   78.91   83.13    0.81\n",
            "  9    1400        508.28    342.15   83.24   86.47   80.25    0.83\n",
            " 11    1600        745.53    349.92   80.99   85.23   77.16    0.81\n",
            " 14    1800        606.07    237.63   82.11   84.05   80.25    0.82\n",
            " 18    2000        687.49    188.60   81.73   83.95   79.63    0.82\n",
            " 22    2200        597.21    199.90   81.75   82.88   80.66    0.82\n",
            " 28    2400        679.09    188.30   80.55   82.37   78.81    0.81\n",
            " 34    2600        494.20    167.83   81.01   82.66   79.42    0.81\n",
            " 40    2800        464.98    121.93   76.99   79.43   74.69    0.77\n",
            " 46    3000        669.46    143.60   82.52   82.95   82.10    0.83\n",
            "\u001b[38;5;2m✔ Saved pipeline to output directory\u001b[0m\n",
            "/content/drive/MyDrive/Colab\n",
            "Notebooks/data/Alcedo/NER/models/model_spacy_3catPLO_cpu_es/model-last\n"
          ]
        }
      ]
    },
    {
      "cell_type": "markdown",
      "source": [
        "Salida entrenamiento.\n",
        "\n",
        "```\n",
        "=========================== Initializing pipeline ===========================\n",
        "✔ Initialized pipeline\n",
        "\n",
        "============================= Training pipeline =============================\n",
        "ℹ Pipeline: ['tok2vec', 'ner']\n",
        "ℹ Initial learn rate: 0.001\n",
        "E    #       LOSS TOK2VEC  LOSS NER  ENTS_F  ENTS_P  ENTS_R  SCORE\n",
        "---  ------  ------------  --------  ------  ------  ------  ------\n",
        "  0       0          0.00     36.07    0.00    0.00    0.00    0.00\n",
        "  0     200         68.70   4287.17   71.96   78.73   66.26    0.72\n",
        "  1     400       3398.64   1148.27   71.37   71.97   70.78    0.71\n",
        "  2     600        577.58    792.87   80.21   81.66   78.81    0.80\n",
        "  3     800        282.98    569.32   79.70   81.96   77.57    0.80\n",
        "  5    1000        376.67    448.67   82.81   84.40   81.28    0.83\n",
        "  7    1200        623.50    373.99   80.96   78.91   83.13    0.81\n",
        "  9    1400        508.28    342.15   83.24   86.47   80.25    0.83\n",
        " 11    1600        745.53    349.92   80.99   85.23   77.16    0.81\n",
        " 14    1800        606.07    237.63   82.11   84.05   80.25    0.82\n",
        " 18    2000        687.49    188.60   81.73   83.95   79.63    0.82\n",
        " 22    2200        597.21    199.90   81.75   82.88   80.66    0.82\n",
        " 28    2400        679.09    188.30   80.55   82.37   78.81    0.81\n",
        " 34    2600        494.20    167.83   81.01   82.66   79.42    0.81\n",
        " 40    2800        464.98    121.93   76.99   79.43   74.69    0.77\n",
        " 46    3000        669.46    143.60   82.52   82.95   82.10    0.83\n",
        "✔ Saved pipeline to output directory\n",
        "/content/drive/MyDrive/Colab\n",
        "Notebooks/data/Alcedo/NER/models/model_spacy_3catPLO_cpu_es/model-last\n",
        "```\n",
        "\n"
      ],
      "metadata": {
        "id": "w9vZRckA9gpk"
      }
    },
    {
      "cell_type": "markdown",
      "source": [
        "**Modèle Loc (settlement, territory, nature)**"
      ],
      "metadata": {
        "id": "ZcJRBffWT8DE"
      }
    },
    {
      "cell_type": "code",
      "source": [
        "!python -m spacy convert \"/content/drive/MyDrive/Colab Notebooks/data/Alcedo/NER/annot_data/3catLoc_trainDS_project-4-at-2023-12-26-09-57-88cd17ba_modif.conll\" \"/content/drive/MyDrive/Colab Notebooks/data/Alcedo/NER/bin_containers/\" -t spacy -c conll\n",
        "\n",
        "!python -m spacy convert \"/content/drive/MyDrive/Colab Notebooks/data/Alcedo/NER/annot_data/3catLoc_evalDS_project-4-at-2023-12-26-09-37-1e54cf98_modif.conll\" \"/content/drive/MyDrive/Colab Notebooks/data/Alcedo/NER/bin_containers/\" -t spacy -c conll"
      ],
      "metadata": {
        "colab": {
          "base_uri": "https://localhost:8080/"
        },
        "id": "38UbHWZ44Fx4",
        "outputId": "0ec45a7c-9cb4-47dd-9212-64e27861c97d"
      },
      "execution_count": null,
      "outputs": [
        {
          "output_type": "stream",
          "name": "stdout",
          "text": [
            "2024-01-18 14:13:55.354250: E external/local_xla/xla/stream_executor/cuda/cuda_dnn.cc:9261] Unable to register cuDNN factory: Attempting to register factory for plugin cuDNN when one has already been registered\n",
            "2024-01-18 14:13:55.354328: E external/local_xla/xla/stream_executor/cuda/cuda_fft.cc:607] Unable to register cuFFT factory: Attempting to register factory for plugin cuFFT when one has already been registered\n",
            "2024-01-18 14:13:55.359124: E external/local_xla/xla/stream_executor/cuda/cuda_blas.cc:1515] Unable to register cuBLAS factory: Attempting to register factory for plugin cuBLAS when one has already been registered\n",
            "2024-01-18 14:13:55.373010: I tensorflow/core/platform/cpu_feature_guard.cc:182] This TensorFlow binary is optimized to use available CPU instructions in performance-critical operations.\n",
            "To enable the following instructions: AVX2 FMA, in other operations, rebuild TensorFlow with the appropriate compiler flags.\n",
            "2024-01-18 14:13:56.966532: W tensorflow/compiler/tf2tensorrt/utils/py_utils.cc:38] TF-TRT Warning: Could not find TensorRT\n",
            "\u001b[38;5;3m⚠ Document delimiters found, automatic document segmentation with `-n`\n",
            "disabled.\u001b[0m\n",
            "\u001b[38;5;2m✔ Generated output file (566 documents): /content/drive/MyDrive/Colab\n",
            "Notebooks/data/Alcedo/NER/bin_containers/3catLoc_trainDS_project-4-at-2023-12-26-09-57-88cd17ba_modif.spacy\u001b[0m\n",
            "2024-01-18 14:14:08.879264: E external/local_xla/xla/stream_executor/cuda/cuda_dnn.cc:9261] Unable to register cuDNN factory: Attempting to register factory for plugin cuDNN when one has already been registered\n",
            "2024-01-18 14:14:08.879347: E external/local_xla/xla/stream_executor/cuda/cuda_fft.cc:607] Unable to register cuFFT factory: Attempting to register factory for plugin cuFFT when one has already been registered\n",
            "2024-01-18 14:14:08.881628: E external/local_xla/xla/stream_executor/cuda/cuda_blas.cc:1515] Unable to register cuBLAS factory: Attempting to register factory for plugin cuBLAS when one has already been registered\n",
            "2024-01-18 14:14:08.897909: I tensorflow/core/platform/cpu_feature_guard.cc:182] This TensorFlow binary is optimized to use available CPU instructions in performance-critical operations.\n",
            "To enable the following instructions: AVX2 FMA, in other operations, rebuild TensorFlow with the appropriate compiler flags.\n",
            "2024-01-18 14:14:11.069687: W tensorflow/compiler/tf2tensorrt/utils/py_utils.cc:38] TF-TRT Warning: Could not find TensorRT\n",
            "\u001b[38;5;3m⚠ Document delimiters found, automatic document segmentation with `-n`\n",
            "disabled.\u001b[0m\n",
            "\u001b[38;5;2m✔ Generated output file (75 documents): /content/drive/MyDrive/Colab\n",
            "Notebooks/data/Alcedo/NER/bin_containers/3catLoc_evalDS_project-4-at-2023-12-26-09-37-1e54cf98_modif.spacy\u001b[0m\n"
          ]
        }
      ]
    },
    {
      "cell_type": "code",
      "source": [
        "!cp \"/content/drive/MyDrive/Colab Notebooks/data/Alcedo/NER/bin_containers/3catLoc_trainDS_project-4-at-2023-12-26-09-57-88cd17ba_modif.spacy\" ./train.spacy\n",
        "\n",
        "!cp \"/content/drive/MyDrive/Colab Notebooks/data/Alcedo/NER/bin_containers/3catLoc_evalDS_project-4-at-2023-12-26-09-37-1e54cf98_modif.spacy\" ./dev.spacy"
      ],
      "metadata": {
        "id": "hibte_22T7ak"
      },
      "execution_count": null,
      "outputs": []
    },
    {
      "cell_type": "code",
      "source": [
        "!cp \"/content/drive/MyDrive/Colab Notebooks/data/Alcedo/NER/config/config_src_cpu_es_lg.cfg\" ./config.cfg"
      ],
      "metadata": {
        "id": "tIz-TRuyUiXq"
      },
      "execution_count": null,
      "outputs": []
    },
    {
      "cell_type": "code",
      "source": [
        "!python -m spacy debug config config.cfg --paths.train ./train.spacy --paths.dev ./dev.spacy"
      ],
      "metadata": {
        "colab": {
          "base_uri": "https://localhost:8080/"
        },
        "id": "WhkXiBTLUnKj",
        "outputId": "c3044998-316e-44fc-9518-665fffb6e4a8"
      },
      "execution_count": null,
      "outputs": [
        {
          "output_type": "stream",
          "name": "stdout",
          "text": [
            "2024-01-18 14:14:20.150550: E external/local_xla/xla/stream_executor/cuda/cuda_dnn.cc:9261] Unable to register cuDNN factory: Attempting to register factory for plugin cuDNN when one has already been registered\n",
            "2024-01-18 14:14:20.150626: E external/local_xla/xla/stream_executor/cuda/cuda_fft.cc:607] Unable to register cuFFT factory: Attempting to register factory for plugin cuFFT when one has already been registered\n",
            "2024-01-18 14:14:20.152310: E external/local_xla/xla/stream_executor/cuda/cuda_blas.cc:1515] Unable to register cuBLAS factory: Attempting to register factory for plugin cuBLAS when one has already been registered\n",
            "2024-01-18 14:14:20.161688: I tensorflow/core/platform/cpu_feature_guard.cc:182] This TensorFlow binary is optimized to use available CPU instructions in performance-critical operations.\n",
            "To enable the following instructions: AVX2 FMA, in other operations, rebuild TensorFlow with the appropriate compiler flags.\n",
            "2024-01-18 14:14:21.582571: W tensorflow/compiler/tf2tensorrt/utils/py_utils.cc:38] TF-TRT Warning: Could not find TensorRT\n",
            "\u001b[1m\n",
            "============================= Config validation =============================\u001b[0m\n",
            "\u001b[1m\n",
            "===================== Config validation for [initialize] =====================\u001b[0m\n",
            "\u001b[1m\n",
            "====================== Config validation for [training] ======================\u001b[0m\n",
            "\u001b[38;5;2m✔ Config is valid\u001b[0m\n"
          ]
        }
      ]
    },
    {
      "cell_type": "code",
      "source": [
        "!python -m spacy debug data config.cfg --paths.train ./train.spacy --paths.dev ./dev.spacy"
      ],
      "metadata": {
        "colab": {
          "base_uri": "https://localhost:8080/"
        },
        "id": "-5Ih205-UtHD",
        "outputId": "c53bf2c0-e322-4832-da39-3db65e89101d"
      },
      "execution_count": null,
      "outputs": [
        {
          "output_type": "stream",
          "name": "stdout",
          "text": [
            "2024-01-18 14:14:31.105296: E external/local_xla/xla/stream_executor/cuda/cuda_dnn.cc:9261] Unable to register cuDNN factory: Attempting to register factory for plugin cuDNN when one has already been registered\n",
            "2024-01-18 14:14:31.105365: E external/local_xla/xla/stream_executor/cuda/cuda_fft.cc:607] Unable to register cuFFT factory: Attempting to register factory for plugin cuFFT when one has already been registered\n",
            "2024-01-18 14:14:31.106963: E external/local_xla/xla/stream_executor/cuda/cuda_blas.cc:1515] Unable to register cuBLAS factory: Attempting to register factory for plugin cuBLAS when one has already been registered\n",
            "2024-01-18 14:14:31.115631: I tensorflow/core/platform/cpu_feature_guard.cc:182] This TensorFlow binary is optimized to use available CPU instructions in performance-critical operations.\n",
            "To enable the following instructions: AVX2 FMA, in other operations, rebuild TensorFlow with the appropriate compiler flags.\n",
            "2024-01-18 14:14:32.420218: W tensorflow/compiler/tf2tensorrt/utils/py_utils.cc:38] TF-TRT Warning: Could not find TensorRT\n",
            "\u001b[1m\n",
            "============================ Data file validation ============================\u001b[0m\n",
            "\u001b[38;5;2m✔ Pipeline can be initialized with data\u001b[0m\n",
            "\u001b[38;5;2m✔ Corpus is loadable\u001b[0m\n",
            "\u001b[1m\n",
            "=============================== Training stats ===============================\u001b[0m\n",
            "Language: es\n",
            "Training pipeline: tok2vec, ner\n",
            "566 training docs\n",
            "75 evaluation docs\n",
            "\u001b[38;5;2m✔ No overlap between training and evaluation data\u001b[0m\n",
            "\u001b[38;5;3m⚠ Low number of examples to train a new pipeline (566)\u001b[0m\n",
            "\u001b[1m\n",
            "============================== Vocab & Vectors ==============================\u001b[0m\n",
            "\u001b[38;5;4mℹ 33450 total word(s) in the data (5786 unique)\u001b[0m\n",
            "\u001b[38;5;4mℹ 500000 vectors (500000 unique keys, 300 dimensions)\u001b[0m\n",
            "\u001b[38;5;3m⚠ 2282 words in training data without vectors (7%)\u001b[0m\n",
            "\u001b[1m\n",
            "========================== Named Entity Recognition ==========================\u001b[0m\n",
            "\u001b[38;5;4mℹ 4 label(s)\u001b[0m\n",
            "1 missing value(s) (tokens with '-' label)\n",
            "\u001b[38;5;3m⚠ Some model labels are not present in the train data. The model\n",
            "performance may be degraded for these labels after training: '-'.\u001b[0m\n",
            "\u001b[38;5;2m✔ Good amount of examples for all labels\u001b[0m\n",
            "\u001b[38;5;2m✔ Examples without occurrences available for all labels\u001b[0m\n",
            "\u001b[38;5;2m✔ No entities consisting of or starting/ending with whitespace\u001b[0m\n",
            "\u001b[38;5;2m✔ No entities crossing sentence boundaries\u001b[0m\n",
            "\u001b[1m\n",
            "================================== Summary ==================================\u001b[0m\n",
            "\u001b[38;5;2m✔ 7 checks passed\u001b[0m\n",
            "\u001b[38;5;3m⚠ 3 warnings\u001b[0m\n"
          ]
        }
      ]
    },
    {
      "cell_type": "code",
      "source": [
        "!python -m spacy train config.cfg --paths.train ./train.spacy --paths.dev ./dev.spacy --output \"/content/drive/MyDrive/Colab Notebooks/data/Alcedo/NER/models/model_spacy_3catLoc_cpu_es/\""
      ],
      "metadata": {
        "colab": {
          "base_uri": "https://localhost:8080/"
        },
        "id": "vdc6KApjUyIu",
        "outputId": "b65b0861-6f1a-4f49-b53c-62510ee76d1d"
      },
      "execution_count": null,
      "outputs": [
        {
          "output_type": "stream",
          "name": "stdout",
          "text": [
            "2024-01-18 14:14:47.783294: E external/local_xla/xla/stream_executor/cuda/cuda_dnn.cc:9261] Unable to register cuDNN factory: Attempting to register factory for plugin cuDNN when one has already been registered\n",
            "2024-01-18 14:14:47.783357: E external/local_xla/xla/stream_executor/cuda/cuda_fft.cc:607] Unable to register cuFFT factory: Attempting to register factory for plugin cuFFT when one has already been registered\n",
            "2024-01-18 14:14:47.784805: E external/local_xla/xla/stream_executor/cuda/cuda_blas.cc:1515] Unable to register cuBLAS factory: Attempting to register factory for plugin cuBLAS when one has already been registered\n",
            "2024-01-18 14:14:47.792947: I tensorflow/core/platform/cpu_feature_guard.cc:182] This TensorFlow binary is optimized to use available CPU instructions in performance-critical operations.\n",
            "To enable the following instructions: AVX2 FMA, in other operations, rebuild TensorFlow with the appropriate compiler flags.\n",
            "2024-01-18 14:14:49.181533: W tensorflow/compiler/tf2tensorrt/utils/py_utils.cc:38] TF-TRT Warning: Could not find TensorRT\n",
            "\u001b[38;5;4mℹ Saving to output directory: /content/drive/MyDrive/Colab\n",
            "Notebooks/data/Alcedo/NER/models/model_spacy_3catLoc_cpu_es\u001b[0m\n",
            "\u001b[38;5;4mℹ Using CPU\u001b[0m\n",
            "\u001b[1m\n",
            "=========================== Initializing pipeline ===========================\u001b[0m\n",
            "\u001b[38;5;2m✔ Initialized pipeline\u001b[0m\n",
            "\u001b[1m\n",
            "============================= Training pipeline =============================\u001b[0m\n",
            "\u001b[38;5;4mℹ Pipeline: ['tok2vec', 'ner']\u001b[0m\n",
            "\u001b[38;5;4mℹ Initial learn rate: 0.001\u001b[0m\n",
            "E    #       LOSS TOK2VEC  LOSS NER  ENTS_F  ENTS_P  ENTS_R  SCORE \n",
            "---  ------  ------------  --------  ------  ------  ------  ------\n",
            "  0       0          0.00     37.28    0.00    0.00    0.00    0.00\n",
            "  0     200        483.05   4610.27   47.95   51.78   44.64    0.48\n",
            "  1     400       1506.55   1396.90   54.12   55.50   52.81    0.54\n",
            "  2     600        185.71    870.62   59.71   62.82   56.89    0.60\n",
            "  3     800        911.80    742.44   64.81   67.31   62.50    0.65\n",
            "  5    1000        488.73    664.38   66.67   68.09   65.31    0.67\n",
            "  7    1200        315.20    449.22   64.47   66.58   62.50    0.64\n",
            "  9    1400        420.36    453.38   67.19   68.34   66.07    0.67\n",
            " 11    1600        781.63    428.72   66.07   66.32   65.82    0.66\n",
            " 14    1800        753.25    490.33   66.49   67.19   65.82    0.66\n",
            " 18    2000        931.57    465.97   67.38   70.47   64.54    0.67\n",
            " 22    2200        803.62    345.77   66.40   68.96   64.03    0.66\n",
            " 28    2400       1244.81    391.01   68.12   68.38   67.86    0.68\n",
            " 34    2600       1252.09    378.70   67.37   69.86   65.05    0.67\n",
            " 40    2800        521.51    206.25   67.20   71.02   63.78    0.67\n",
            " 46    3000        864.19    246.96   66.12   70.52   62.24    0.66\n",
            " 52    3200        936.86    242.05   65.98   66.93   65.05    0.66\n",
            " 58    3400        636.53    185.72   67.21   71.35   63.52    0.67\n",
            " 64    3600        562.98    171.16   67.84   67.08   68.62    0.68\n",
            " 71    3800        720.55    178.96   67.55   69.95   65.31    0.68\n",
            " 77    4000        596.32    166.14   66.58   68.75   64.54    0.67\n",
            "\u001b[38;5;2m✔ Saved pipeline to output directory\u001b[0m\n",
            "/content/drive/MyDrive/Colab\n",
            "Notebooks/data/Alcedo/NER/models/model_spacy_3catLoc_cpu_es/model-last\n"
          ]
        }
      ]
    },
    {
      "cell_type": "markdown",
      "source": [
        "Salida entrenamiento\n",
        "\n",
        "```\n",
        "=========================== Initializing pipeline ===========================\n",
        "✔ Initialized pipeline\n",
        "\n",
        "============================= Training pipeline =============================\n",
        "ℹ Pipeline: ['tok2vec', 'ner']\n",
        "ℹ Initial learn rate: 0.001\n",
        "E    #       LOSS TOK2VEC  LOSS NER  ENTS_F  ENTS_P  ENTS_R  SCORE\n",
        "---  ------  ------------  --------  ------  ------  ------  ------\n",
        "  0       0          0.00     37.28    0.00    0.00    0.00    0.00\n",
        "  0     200        483.05   4610.27   47.95   51.78   44.64    0.48\n",
        "  1     400       1506.55   1396.90   54.12   55.50   52.81    0.54\n",
        "  2     600        185.71    870.62   59.71   62.82   56.89    0.60\n",
        "  3     800        911.80    742.44   64.81   67.31   62.50    0.65\n",
        "  5    1000        488.73    664.38   66.67   68.09   65.31    0.67\n",
        "  7    1200        315.20    449.22   64.47   66.58   62.50    0.64\n",
        "  9    1400        420.36    453.38   67.19   68.34   66.07    0.67\n",
        " 11    1600        781.63    428.72   66.07   66.32   65.82    0.66\n",
        " 14    1800        753.25    490.33   66.49   67.19   65.82    0.66\n",
        " 18    2000        931.57    465.97   67.38   70.47   64.54    0.67\n",
        " 22    2200        803.62    345.77   66.40   68.96   64.03    0.66\n",
        " 28    2400       1244.81    391.01   68.12   68.38   67.86    0.68\n",
        " 34    2600       1252.09    378.70   67.37   69.86   65.05    0.67\n",
        " 40    2800        521.51    206.25   67.20   71.02   63.78    0.67\n",
        " 46    3000        864.19    246.96   66.12   70.52   62.24    0.66\n",
        " 52    3200        936.86    242.05   65.98   66.93   65.05    0.66\n",
        " 58    3400        636.53    185.72   67.21   71.35   63.52    0.67\n",
        " 64    3600        562.98    171.16   67.84   67.08   68.62    0.68\n",
        " 71    3800        720.55    178.96   67.55   69.95   65.31    0.68\n",
        " 77    4000        596.32    166.14   66.58   68.75   64.54    0.67\n",
        "✔ Saved pipeline to output directory\n",
        "/content/drive/MyDrive/Colab\n",
        "Notebooks/data/Alcedo/NER/models/model_spacy_3catLoc_cpu_es/model-last\n",
        "```\n",
        "\n"
      ],
      "metadata": {
        "id": "rw5kblrPa-sE"
      }
    },
    {
      "cell_type": "markdown",
      "source": [
        "Las etapas siguientes estan aqui:\n",
        "*   Evaluacion : https://colab.research.google.com/drive/1xmu8x46s7Zt9hXBbEx3kMYMdh8ST3PB2#scrollTo=-TgbH_G-MYB_\n",
        "\n",
        "\n"
      ],
      "metadata": {
        "id": "xO_XO1qHYPw5"
      }
    }
  ]
}